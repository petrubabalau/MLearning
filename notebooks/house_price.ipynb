{
 "cells": [
  {
   "cell_type": "markdown",
   "metadata": {},
   "source": []
  },
  {
   "cell_type": "code",
   "execution_count": 5,
   "metadata": {},
   "outputs": [],
   "source": [
    "import os\n",
    "import pandas as pd\n",
    "\n",
    "DATA_PATH = os.path.join('../data','missing_values')\n",
    "TRAIN_CSV = os.path.join(DATA_PATH, 'train.csv')\n",
    "TEST_CSV = os.path.join(DATA_PATH, 'test.csv')\n",
    "\n"
   ]
  },
  {
   "cell_type": "code",
   "execution_count": 6,
   "metadata": {},
   "outputs": [],
   "source": [
    "# Helper functions\n",
    "def get_categorical_cols(df, nunique=10, dtype='object'):\n",
    "    \"\"\"Returns a list of categorical columns.\n",
    "    \"\"\"\n",
    "    res = [cname for cname in df.columns if\n",
    "           df[cname].nunique() < nunique and\n",
    "           df[cname].dtype == dtype]\n",
    "    return res\n",
    "\n",
    "def get_numerical_cols(df):\n",
    "    \"\"\"Returns a list of numerical columns.\n",
    "    \"\"\"\n",
    "    dtypes = ('int64', 'float64')\n",
    "    res = [cname for cname in df.columns if\n",
    "           df[cname].dtype in dtypes]\n",
    "    return res"
   ]
  },
  {
   "cell_type": "code",
   "execution_count": 7,
   "metadata": {},
   "outputs": [
    {
     "name": "stdout",
     "output_type": "stream",
     "text": [
      "    MSSubClass MSZoning  LotFrontage  LotArea Street Alley LotShape  \\\n",
      "Id                                                                    \n",
      "1           60       RL         65.0     8450   Pave   NaN      Reg   \n",
      "2           20       RL         80.0     9600   Pave   NaN      Reg   \n",
      "3           60       RL         68.0    11250   Pave   NaN      IR1   \n",
      "4           70       RL         60.0     9550   Pave   NaN      IR1   \n",
      "5           60       RL         84.0    14260   Pave   NaN      IR1   \n",
      "\n",
      "   LandContour Utilities LotConfig    ...     PoolArea PoolQC Fence  \\\n",
      "Id                                    ...                             \n",
      "1          Lvl    AllPub    Inside    ...            0    NaN   NaN   \n",
      "2          Lvl    AllPub       FR2    ...            0    NaN   NaN   \n",
      "3          Lvl    AllPub    Inside    ...            0    NaN   NaN   \n",
      "4          Lvl    AllPub    Corner    ...            0    NaN   NaN   \n",
      "5          Lvl    AllPub       FR2    ...            0    NaN   NaN   \n",
      "\n",
      "   MiscFeature MiscVal MoSold  YrSold  SaleType  SaleCondition  SalePrice  \n",
      "Id                                                                         \n",
      "1          NaN       0      2    2008        WD         Normal     208500  \n",
      "2          NaN       0      5    2007        WD         Normal     181500  \n",
      "3          NaN       0      9    2008        WD         Normal     223500  \n",
      "4          NaN       0      2    2006        WD        Abnorml     140000  \n",
      "5          NaN       0     12    2008        WD         Normal     250000  \n",
      "\n",
      "[5 rows x 80 columns]\n"
     ]
    }
   ],
   "source": [
    "# Read the data\n",
    "X_full = pd.read_csv(TRAIN_CSV, index_col='Id')\n",
    "X_test_full = pd.read_csv(TEST_CSV, index_col='Id')\n",
    "\n",
    "print(X_full.head())"
   ]
  },
  {
   "cell_type": "code",
   "execution_count": null,
   "metadata": {},
   "outputs": [],
   "source": []
  }
 ],
 "metadata": {
  "kernelspec": {
   "display_name": "Python 3",
   "language": "python",
   "name": "python3"
  },
  "language_info": {
   "codemirror_mode": {
    "name": "ipython",
    "version": 3
   },
   "file_extension": ".py",
   "mimetype": "text/x-python",
   "name": "python",
   "nbconvert_exporter": "python",
   "pygments_lexer": "ipython3",
   "version": "3.6.3"
  }
 },
 "nbformat": 4,
 "nbformat_minor": 2
}
